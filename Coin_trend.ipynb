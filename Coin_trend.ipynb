{
 "cells": [
  {
   "cell_type": "code",
   "execution_count": 3,
   "metadata": {},
   "outputs": [],
   "source": [
    "import pandas as pd"
   ]
  },
  {
   "cell_type": "code",
   "execution_count": 4,
   "metadata": {},
   "outputs": [],
   "source": [
    "df = pd.read_csv('Ethereum (ETH) [13.48.51, 29 Sep, 2021].csv')    "
   ]
  },
  {
   "cell_type": "code",
   "execution_count": 5,
   "metadata": {},
   "outputs": [
    {
     "data": {
      "text/html": [
       "<div>\n",
       "<style scoped>\n",
       "    .dataframe tbody tr th:only-of-type {\n",
       "        vertical-align: middle;\n",
       "    }\n",
       "\n",
       "    .dataframe tbody tr th {\n",
       "        vertical-align: top;\n",
       "    }\n",
       "\n",
       "    .dataframe thead th {\n",
       "        text-align: right;\n",
       "    }\n",
       "</style>\n",
       "<table border=\"1\" class=\"dataframe\">\n",
       "  <thead>\n",
       "    <tr style=\"text-align: right;\">\n",
       "      <th></th>\n",
       "      <th>Date</th>\n",
       "      <th>Price</th>\n",
       "    </tr>\n",
       "  </thead>\n",
       "  <tbody>\n",
       "    <tr>\n",
       "      <th>4406</th>\n",
       "      <td>2021-09-28T11:00:00.000Z</td>\n",
       "      <td>2929.096863</td>\n",
       "    </tr>\n",
       "    <tr>\n",
       "      <th>4407</th>\n",
       "      <td>2021-09-28T12:00:00.000Z</td>\n",
       "      <td>2900.302437</td>\n",
       "    </tr>\n",
       "    <tr>\n",
       "      <th>4408</th>\n",
       "      <td>2021-09-28T13:00:00.000Z</td>\n",
       "      <td>2918.827489</td>\n",
       "    </tr>\n",
       "    <tr>\n",
       "      <th>4409</th>\n",
       "      <td>2021-09-28T14:00:00.000Z</td>\n",
       "      <td>2862.233395</td>\n",
       "    </tr>\n",
       "    <tr>\n",
       "      <th>4410</th>\n",
       "      <td>2021-09-28T15:00:00.000Z</td>\n",
       "      <td>2850.358015</td>\n",
       "    </tr>\n",
       "    <tr>\n",
       "      <th>4411</th>\n",
       "      <td>2021-09-28T16:00:00.000Z</td>\n",
       "      <td>2821.805883</td>\n",
       "    </tr>\n",
       "    <tr>\n",
       "      <th>4412</th>\n",
       "      <td>2021-09-28T17:00:00.000Z</td>\n",
       "      <td>2831.312398</td>\n",
       "    </tr>\n",
       "    <tr>\n",
       "      <th>4413</th>\n",
       "      <td>2021-09-28T18:00:00.000Z</td>\n",
       "      <td>2841.576359</td>\n",
       "    </tr>\n",
       "    <tr>\n",
       "      <th>4414</th>\n",
       "      <td>2021-09-28T19:00:00.000Z</td>\n",
       "      <td>2837.433715</td>\n",
       "    </tr>\n",
       "    <tr>\n",
       "      <th>4415</th>\n",
       "      <td>2021-09-28T20:00:00.000Z</td>\n",
       "      <td>2862.760689</td>\n",
       "    </tr>\n",
       "    <tr>\n",
       "      <th>4416</th>\n",
       "      <td>2021-09-28T21:00:00.000Z</td>\n",
       "      <td>2879.986548</td>\n",
       "    </tr>\n",
       "    <tr>\n",
       "      <th>4417</th>\n",
       "      <td>2021-09-28T22:00:00.000Z</td>\n",
       "      <td>2841.069684</td>\n",
       "    </tr>\n",
       "    <tr>\n",
       "      <th>4418</th>\n",
       "      <td>2021-09-28T23:00:00.000Z</td>\n",
       "      <td>2807.296740</td>\n",
       "    </tr>\n",
       "    <tr>\n",
       "      <th>4419</th>\n",
       "      <td>2021-09-29T00:00:00.000Z</td>\n",
       "      <td>2843.047956</td>\n",
       "    </tr>\n",
       "    <tr>\n",
       "      <th>4420</th>\n",
       "      <td>2021-09-29T01:00:00.000Z</td>\n",
       "      <td>2849.007876</td>\n",
       "    </tr>\n",
       "    <tr>\n",
       "      <th>4421</th>\n",
       "      <td>2021-09-29T02:00:00.000Z</td>\n",
       "      <td>2872.672111</td>\n",
       "    </tr>\n",
       "    <tr>\n",
       "      <th>4422</th>\n",
       "      <td>2021-09-29T03:00:00.000Z</td>\n",
       "      <td>2891.962312</td>\n",
       "    </tr>\n",
       "    <tr>\n",
       "      <th>4423</th>\n",
       "      <td>2021-09-29T04:00:00.000Z</td>\n",
       "      <td>2905.603336</td>\n",
       "    </tr>\n",
       "    <tr>\n",
       "      <th>4424</th>\n",
       "      <td>2021-09-29T05:00:00.000Z</td>\n",
       "      <td>2907.303209</td>\n",
       "    </tr>\n",
       "    <tr>\n",
       "      <th>4425</th>\n",
       "      <td>2021-09-29T06:00:00.000Z</td>\n",
       "      <td>2929.280780</td>\n",
       "    </tr>\n",
       "    <tr>\n",
       "      <th>4426</th>\n",
       "      <td>2021-09-29T07:00:00.000Z</td>\n",
       "      <td>2928.242745</td>\n",
       "    </tr>\n",
       "    <tr>\n",
       "      <th>4427</th>\n",
       "      <td>2021-09-29T08:00:00.000Z</td>\n",
       "      <td>2920.546872</td>\n",
       "    </tr>\n",
       "    <tr>\n",
       "      <th>4428</th>\n",
       "      <td>2021-09-29T09:00:00.000Z</td>\n",
       "      <td>2912.763971</td>\n",
       "    </tr>\n",
       "    <tr>\n",
       "      <th>4429</th>\n",
       "      <td>2021-09-29T10:00:00.000Z</td>\n",
       "      <td>2931.199751</td>\n",
       "    </tr>\n",
       "  </tbody>\n",
       "</table>\n",
       "</div>"
      ],
      "text/plain": [
       "                          Date        Price\n",
       "4406  2021-09-28T11:00:00.000Z  2929.096863\n",
       "4407  2021-09-28T12:00:00.000Z  2900.302437\n",
       "4408  2021-09-28T13:00:00.000Z  2918.827489\n",
       "4409  2021-09-28T14:00:00.000Z  2862.233395\n",
       "4410  2021-09-28T15:00:00.000Z  2850.358015\n",
       "4411  2021-09-28T16:00:00.000Z  2821.805883\n",
       "4412  2021-09-28T17:00:00.000Z  2831.312398\n",
       "4413  2021-09-28T18:00:00.000Z  2841.576359\n",
       "4414  2021-09-28T19:00:00.000Z  2837.433715\n",
       "4415  2021-09-28T20:00:00.000Z  2862.760689\n",
       "4416  2021-09-28T21:00:00.000Z  2879.986548\n",
       "4417  2021-09-28T22:00:00.000Z  2841.069684\n",
       "4418  2021-09-28T23:00:00.000Z  2807.296740\n",
       "4419  2021-09-29T00:00:00.000Z  2843.047956\n",
       "4420  2021-09-29T01:00:00.000Z  2849.007876\n",
       "4421  2021-09-29T02:00:00.000Z  2872.672111\n",
       "4422  2021-09-29T03:00:00.000Z  2891.962312\n",
       "4423  2021-09-29T04:00:00.000Z  2905.603336\n",
       "4424  2021-09-29T05:00:00.000Z  2907.303209\n",
       "4425  2021-09-29T06:00:00.000Z  2929.280780\n",
       "4426  2021-09-29T07:00:00.000Z  2928.242745\n",
       "4427  2021-09-29T08:00:00.000Z  2920.546872\n",
       "4428  2021-09-29T09:00:00.000Z  2912.763971\n",
       "4429  2021-09-29T10:00:00.000Z  2931.199751"
      ]
     },
     "execution_count": 5,
     "metadata": {},
     "output_type": "execute_result"
    }
   ],
   "source": [
    "df.tail(24)  # return the last 24 rows"
   ]
  },
  {
   "cell_type": "code",
   "execution_count": 6,
   "metadata": {},
   "outputs": [
    {
     "data": {
      "text/plain": [
       "(4430, 2)"
      ]
     },
     "execution_count": 6,
     "metadata": {},
     "output_type": "execute_result"
    }
   ],
   "source": [
    "df.shape  # return a tuple representing the dimensionality of the df"
   ]
  },
  {
   "cell_type": "code",
   "execution_count": 7,
   "metadata": {},
   "outputs": [],
   "source": [
    "df1 = df.tail(24)"
   ]
  },
  {
   "cell_type": "code",
   "execution_count": 8,
   "metadata": {},
   "outputs": [
    {
     "data": {
      "image/png": "[encoded data removed]",
      "text/plain": [
       "<Figure size 432x288 with 1 Axes>"
      ]
     },
     "metadata": {
      "needs_background": "light"
     },
     "output_type": "display_data"
    }
   ],
   "source": [
    "df1.plot(); # make plots of df1"
   ]
  },
  {
   "cell_type": "markdown",
   "metadata": {},
   "source": [
    "### 1st Algorithm"
   ]
  },
  {
   "cell_type": "code",
   "execution_count": 9,
   "metadata": {},
   "outputs": [
    {
     "name": "stdout",
     "output_type": "stream",
     "text": [
      "ups\n"
     ]
    }
   ],
   "source": [
    "df1 = df[df.index == df.index.max()]  # take the last value of our df\n",
    "df2 = df[df.index == df.index.max()-24]  # take the value 1 day earlier\n",
    "if float(df1.Price) < float(df2.Price):  # determine coin's trend on the fact that the price in df1 is higher than the price of df2 or not\n",
    "    print('downs')\n",
    "else:\n",
    "    print('ups')"
   ]
  },
  {
   "cell_type": "markdown",
   "metadata": {},
   "source": [
    "### 2nd Algorithm"
   ]
  },
  {
   "cell_type": "code",
   "execution_count": 34,
   "metadata": {},
   "outputs": [
    {
     "name": "stdout",
     "output_type": "stream",
     "text": [
      "ups\n"
     ]
    }
   ],
   "source": [
    "last_price = float(df[df.index == df.index.max()].Price)  # take the last Price value of our df\n",
    "penultimate_price = (float(df[df.index == df.index.max()-1].Price))  # take the penultimate Price value of our df\n",
    "if last_price < penultimate_price * 0.85 or last_price > penultimate_price * 1.15:  # exclude random value of last Price\n",
    "    last_price = penultimate_price\n",
    "price = last_price \n",
    "A = []  # create an empty array to store the results\n",
    "count = 0  # iteration counter\n",
    "for i in range(1, len(df)):  # analyze the price value for the last 24 hours or until the next latest price change\n",
    "    tmp_price = (float(df[df.index == df.index.max()-i].Price))\n",
    "    count += 1\n",
    "    if tmp_price * 1.003 < price < tmp_price * 1.15:  # price rises if its value is much higher than tmp_price and its not a random value\n",
    "        price = tmp_price\n",
    "        A.append(1)\n",
    "    elif tmp_price * 0.85 < price < tmp_price * 0.997:  # price falls if its value is much less than tmp_price and its not a random value\n",
    "        price = tmp_price\n",
    "        A.append(-1)\n",
    "    else:\n",
    "        A.append(0)\n",
    "    if count >= 24 and sum(A) != 0:  # break the loop if the price has changed in the last 24 hours or find the last price change earlier\n",
    "        break\n",
    "if sum(A) >= 0:\n",
    "    print('ups')\n",
    "elif sum(A) < 0:\n",
    "    print('downs')"
   ]
  },
  {
   "cell_type": "code",
   "execution_count": null,
   "metadata": {},
   "outputs": [],
   "source": []
  }
 ],
 "metadata": {
  "kernelspec": {
   "display_name": "Python 3",
   "language": "python",
   "name": "python3"
  },
  "language_info": {
   "codemirror_mode": {
    "name": "ipython",
    "version": 3
   },
   "file_extension": ".py",
   "mimetype": "text/x-python",
   "name": "python",
   "nbconvert_exporter": "python",
   "pygments_lexer": "ipython3",
   "version": "3.7.3"
  }
 },
 "nbformat": 4,
 "nbformat_minor": 4
}
